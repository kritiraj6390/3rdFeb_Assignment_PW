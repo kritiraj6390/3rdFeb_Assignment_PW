{
 "cells": [
  {
   "cell_type": "code",
   "execution_count": 3,
   "id": "defb97b1-c073-4e7d-a8f3-b919de6544c0",
   "metadata": {},
   "outputs": [],
   "source": [
    "#Q1. Which keyword is used to create a function? Create a function to return a list of odd numbers in the\n",
    "#range of 1 to 25."
   ]
  },
  {
   "cell_type": "code",
   "execution_count": 4,
   "id": "17361ef3-1dad-46c3-92f7-82a3c88d8995",
   "metadata": {},
   "outputs": [],
   "source": [
    "#A1. Keyword used to create a function is def. The syntax is: def function_name(values)"
   ]
  },
  {
   "cell_type": "code",
   "execution_count": 5,
   "id": "825c4758-b05a-422c-aa87-616f47d01cab",
   "metadata": {},
   "outputs": [],
   "source": [
    "l = []\n",
    "def oddf():\n",
    "        for i in range (1,26):\n",
    "            if i %2 ==0:\n",
    "                l.append(i)\n",
    "        return l"
   ]
  },
  {
   "cell_type": "code",
   "execution_count": 6,
   "id": "f69fe4be-bbdc-4bd9-b7a8-9aed09fdba7c",
   "metadata": {},
   "outputs": [
    {
     "data": {
      "text/plain": [
       "[2, 4, 6, 8, 10, 12, 14, 16, 18, 20, 22, 24]"
      ]
     },
     "execution_count": 6,
     "metadata": {},
     "output_type": "execute_result"
    }
   ],
   "source": [
    "oddf()"
   ]
  },
  {
   "cell_type": "code",
   "execution_count": 7,
   "id": "1d65d1ef-7cb6-4b31-8b3f-f6d8289f524e",
   "metadata": {},
   "outputs": [],
   "source": [
    "#Q2. Why *args and **kwargs is used in some functions? Create a function each for *args and **kwargs\n",
    "#to demonstrate their use."
   ]
  },
  {
   "cell_type": "code",
   "execution_count": 8,
   "id": "abd7b643-4703-4459-8a7d-a0017bb5ed87",
   "metadata": {},
   "outputs": [],
   "source": [
    "#A2: *args is used to input any number of values in a function. This allows you to pass any number of arguments in a list. If the coder is unsure of the number of arguments a particular function can receive, they pass *args\n",
    "# **kwargs can be used to give dictionary as an argument in a function. This is used, when the coder believes that the arguments that are being passed in the function, should have a name (or key)\n"
   ]
  },
  {
   "cell_type": "code",
   "execution_count": 12,
   "id": "edc498c3-56c0-476f-96df-a1fbda8bbf0d",
   "metadata": {},
   "outputs": [],
   "source": [
    "#*args example\n",
    "def argsfunc(*args):\n",
    "    for i in args:\n",
    "        print(i)"
   ]
  },
  {
   "cell_type": "code",
   "execution_count": 13,
   "id": "08fee362-f64d-4023-934e-db7b4f7dbf1e",
   "metadata": {},
   "outputs": [
    {
     "name": "stdout",
     "output_type": "stream",
     "text": [
      "Hi\n",
      "I\n",
      "am\n",
      "really\n",
      "enjoying\n",
      "learning\n",
      "data\n",
      "science\n",
      "with\n",
      "PW\n"
     ]
    }
   ],
   "source": [
    "argsfunc(\"Hi\",\"I\", \"am\",\"really\",\"enjoying\",\"learning\", \"data\", \"science\", \"with\", \"PW\")"
   ]
  },
  {
   "cell_type": "code",
   "execution_count": 14,
   "id": "4c14b165-e7a3-43f1-a321-cf7f2b4302f9",
   "metadata": {},
   "outputs": [],
   "source": [
    "#*kwargs example\n",
    "def kwargsfunc(**kwargs):\n",
    "    for k,v in kwargs.items():\n",
    "        print(k, \"=\", v)"
   ]
  },
  {
   "cell_type": "code",
   "execution_count": 15,
   "id": "8568d28e-8179-42a1-9195-25e19fd389df",
   "metadata": {},
   "outputs": [
    {
     "name": "stdout",
     "output_type": "stream",
     "text": [
      "FirstName = Kriti\n",
      "LastName = Raj\n"
     ]
    }
   ],
   "source": [
    "kwargsfunc(FirstName='Kriti', LastName = \"Raj\")"
   ]
  },
  {
   "cell_type": "code",
   "execution_count": 16,
   "id": "28165f1a-0f24-4a11-9f8a-f864822725c1",
   "metadata": {},
   "outputs": [],
   "source": [
    "#Q3. What is an iterator in python? Name the method used to initialise the iterator object and the method\n",
    "#used for iteration. Use these methods to print the first five elements of the given list [2, 4, 6, 8, 10, 12, 14,\n",
    "#16, 18, 20]."
   ]
  },
  {
   "cell_type": "code",
   "execution_count": 1,
   "id": "1099607e-10e1-44cb-971d-7d0648919f5a",
   "metadata": {},
   "outputs": [],
   "source": [
    "#A3: An iterator is an object that contains a countable number of values. \n",
    "#The method used to initialise the iterator object is iter()\n",
    "#The method used for iteration is next()"
   ]
  },
  {
   "cell_type": "code",
   "execution_count": 2,
   "id": "bf736560-c6fb-48e5-9f16-1a5d5e17b36f",
   "metadata": {},
   "outputs": [],
   "source": [
    "l = [2,4,6,8,10,12,14,16,18,20]"
   ]
  },
  {
   "cell_type": "code",
   "execution_count": 4,
   "id": "a7ad5405-c344-4d9f-ae25-2c18172f0d37",
   "metadata": {},
   "outputs": [
    {
     "name": "stdout",
     "output_type": "stream",
     "text": [
      "2\n",
      "4\n",
      "6\n",
      "8\n",
      "10\n"
     ]
    }
   ],
   "source": [
    "iteration = iter(l)\n",
    "print (next(iteration))\n",
    "print (next(iteration))\n",
    "print (next(iteration))\n",
    "print (next(iteration))\n",
    "print (next(iteration))"
   ]
  },
  {
   "cell_type": "code",
   "execution_count": 5,
   "id": "843559f5-d748-46ec-bf0d-41c603d9bb74",
   "metadata": {},
   "outputs": [],
   "source": [
    "#Q4. What is a generator function in python? Why yield keyword is used? Give an example of a generator\n",
    "#function."
   ]
  },
  {
   "cell_type": "code",
   "execution_count": 6,
   "id": "97a84d14-caca-4b7a-ab44-b15fcd86d165",
   "metadata": {},
   "outputs": [],
   "source": [
    "#A4: Generator is a function that returns an iterator that produces a sequence of values when iterated over."
   ]
  },
  {
   "cell_type": "code",
   "execution_count": 7,
   "id": "c1cd591b-4ca5-475a-8789-5be25036bc8f",
   "metadata": {},
   "outputs": [],
   "source": [
    "#the yield keyword is used to produce a value from the generator."
   ]
  },
  {
   "cell_type": "code",
   "execution_count": 1,
   "id": "98764b86-0790-4b76-8476-09926b85d355",
   "metadata": {},
   "outputs": [],
   "source": [
    "#example\n",
    "def gen_func():\n",
    "    a=0\n",
    "    for i in range(10):\n",
    "        yield a\n",
    "        a = a+1"
   ]
  },
  {
   "cell_type": "code",
   "execution_count": 2,
   "id": "fb1c8e94-ffe0-4427-8253-421df3d4739d",
   "metadata": {},
   "outputs": [
    {
     "name": "stdout",
     "output_type": "stream",
     "text": [
      "0\n",
      "1\n",
      "2\n",
      "3\n",
      "4\n",
      "5\n",
      "6\n",
      "7\n",
      "8\n",
      "9\n"
     ]
    }
   ],
   "source": [
    "for i in gen_func():\n",
    "    print (i)"
   ]
  },
  {
   "cell_type": "code",
   "execution_count": null,
   "id": "6d888589-46da-48e7-a1f6-d5842d5876be",
   "metadata": {},
   "outputs": [],
   "source": [
    "#Q5. Create a generator function for prime numbers less than 1000. Use the next() method to print the\n",
    "#first 20 prime numbers."
   ]
  },
  {
   "cell_type": "code",
   "execution_count": 6,
   "id": "cb0b3b0d-e812-498f-9c37-7096c41ff1cb",
   "metadata": {},
   "outputs": [],
   "source": [
    "def prime_generator():\n",
    "    for i in range (2, 1001):\n",
    "        isprime = True\n",
    "        for j in range(2,i):\n",
    "            if i%j==0:\n",
    "                isprime=False\n",
    "                break\n",
    "        if isprime == True:\n",
    "            yield i"
   ]
  },
  {
   "cell_type": "code",
   "execution_count": 7,
   "id": "78b21424-ea53-40a9-bbee-14731dfcd5d9",
   "metadata": {},
   "outputs": [
    {
     "name": "stdout",
     "output_type": "stream",
     "text": [
      "2\n",
      "3\n",
      "5\n",
      "7\n",
      "11\n",
      "13\n",
      "17\n",
      "19\n",
      "23\n",
      "29\n",
      "31\n",
      "37\n",
      "41\n",
      "43\n",
      "47\n",
      "53\n",
      "59\n",
      "61\n",
      "67\n",
      "71\n"
     ]
    }
   ],
   "source": [
    "gen=iter(prime_generator())\n",
    "print(next(gen))\n",
    "print(next(gen))\n",
    "print(next(gen))\n",
    "print(next(gen))\n",
    "print(next(gen))\n",
    "print(next(gen))\n",
    "print(next(gen))\n",
    "print(next(gen))\n",
    "print(next(gen))\n",
    "print(next(gen))\n",
    "print(next(gen))\n",
    "print(next(gen))\n",
    "print(next(gen))\n",
    "print(next(gen))\n",
    "print(next(gen))\n",
    "print(next(gen))\n",
    "print(next(gen))\n",
    "print(next(gen))\n",
    "print(next(gen))\n",
    "print(next(gen))"
   ]
  },
  {
   "cell_type": "code",
   "execution_count": 12,
   "id": "ef367415-2ebd-4f18-b69a-6dfb2ca5c798",
   "metadata": {},
   "outputs": [],
   "source": [
    "#Q6. Write a python program to print the first 10 Fibonacci numbers using a while loop."
   ]
  },
  {
   "cell_type": "code",
   "execution_count": 15,
   "id": "754387ed-39c7-412b-9657-c84a13acc08c",
   "metadata": {},
   "outputs": [
    {
     "name": "stdout",
     "output_type": "stream",
     "text": [
      "0\n",
      "1\n",
      "1\n",
      "2\n",
      "3\n",
      "5\n",
      "8\n",
      "13\n",
      "21\n",
      "34\n"
     ]
    }
   ],
   "source": [
    "a=0\n",
    "b=1\n",
    "n=0\n",
    "while n<10:\n",
    "    print(a)\n",
    "    c=a+b\n",
    "    a=b\n",
    "    b=c\n",
    "    n+=1\n",
    "    "
   ]
  },
  {
   "cell_type": "code",
   "execution_count": 16,
   "id": "abd264fb-5348-40d7-8386-f4d04ba84a69",
   "metadata": {},
   "outputs": [],
   "source": [
    "#Q7. Write a List Comprehension to iterate through the given string: ‘pwskills’.\n",
    "#Expected output: ['p', 'w', 's', 'k', 'i', 'l', 'l', 's']"
   ]
  },
  {
   "cell_type": "code",
   "execution_count": 18,
   "id": "3e1820dd-ee95-493d-aa8a-4b178b5a8680",
   "metadata": {},
   "outputs": [
    {
     "data": {
      "text/plain": [
       "['p', 'w', 's', 'k', 'i', 'l', 'l', 's']"
      ]
     },
     "execution_count": 18,
     "metadata": {},
     "output_type": "execute_result"
    }
   ],
   "source": [
    "str = \"pwskills\"\n",
    "list(str)"
   ]
  },
  {
   "cell_type": "code",
   "execution_count": 19,
   "id": "15c8f703-0a71-4b19-953c-133c73a85413",
   "metadata": {},
   "outputs": [],
   "source": [
    "#Q8. Write a python program to check whether a given number is Palindrome or not using a while loop."
   ]
  },
  {
   "cell_type": "code",
   "execution_count": 4,
   "id": "ed35e7dc-62d7-4df7-888c-28b035cf8f60",
   "metadata": {},
   "outputs": [
    {
     "name": "stdin",
     "output_type": "stream",
     "text": [
      "Enter number to check for palindrome: 12345\n"
     ]
    },
    {
     "name": "stdout",
     "output_type": "stream",
     "text": [
      "5\n",
      "4\n",
      "3\n",
      "2\n",
      "1\n"
     ]
    }
   ],
   "source": [
    "a = int(input(\"Enter number to check for palindrome:\"))\n",
    "while a>0:\n",
    "    print (a%10)\n",
    "    a=int(a/10)\n"
   ]
  },
  {
   "cell_type": "code",
   "execution_count": 5,
   "id": "0eefad39-de82-4e3c-b9b6-6899e7baa0e7",
   "metadata": {},
   "outputs": [],
   "source": [
    "#Q9. Write a code to print odd numbers from 1 to 100 using list comprehension."
   ]
  },
  {
   "cell_type": "code",
   "execution_count": 10,
   "id": "e2021e1f-884e-4c9e-9ae8-925fb6ce6259",
   "metadata": {},
   "outputs": [
    {
     "name": "stdout",
     "output_type": "stream",
     "text": [
      "[1, 3, 5, 7, 9, 11, 13, 15, 17, 19, 21, 23, 25, 27, 29, 31, 33, 35, 37, 39, 41, 43, 45, 47, 49, 51, 53, 55, 57, 59, 61, 63, 65, 67, 69, 71, 73, 75, 77, 79, 81, 83, 85, 87, 89, 91, 93, 95, 97, 99]\n"
     ]
    }
   ],
   "source": [
    "a= [i for i in range (0,100) if i%2!=0]\n",
    "print(a)"
   ]
  },
  {
   "cell_type": "code",
   "execution_count": null,
   "id": "340ebbb2-fc7d-46f9-a60e-d2dd4e4005be",
   "metadata": {},
   "outputs": [],
   "source": []
  }
 ],
 "metadata": {
  "kernelspec": {
   "display_name": "Python 3 (ipykernel)",
   "language": "python",
   "name": "python3"
  },
  "language_info": {
   "codemirror_mode": {
    "name": "ipython",
    "version": 3
   },
   "file_extension": ".py",
   "mimetype": "text/x-python",
   "name": "python",
   "nbconvert_exporter": "python",
   "pygments_lexer": "ipython3",
   "version": "3.10.8"
  }
 },
 "nbformat": 4,
 "nbformat_minor": 5
}
